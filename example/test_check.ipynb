{
  "nbformat": 4,
  "nbformat_minor": 0,
  "metadata": {
    "accelerator": "GPU",
    "colab": {
      "name": "test_check.ipynb",
      "version": "0.3.2",
      "provenance": [],
      "collapsed_sections": [],
      "toc_visible": true
    },
    "kernelspec": {
      "name": "python3",
      "display_name": "Python 3"
    },
    "language_info": {
      "codemirror_mode": {
        "name": "ipython",
        "version": 3
      },
      "file_extension": ".py",
      "mimetype": "text/x-python",
      "name": "python",
      "nbconvert_exporter": "python",
      "pygments_lexer": "ipython3",
      "version": "3.7.2"
    }
  },
  "cells": [
    {
      "cell_type": "markdown",
      "metadata": {
        "colab_type": "text",
        "id": "B9ALu78bhPXM"
      },
      "source": [
        "# TEST\n"
      ]
    },
    {
      "cell_type": "code",
      "metadata": {
        "colab_type": "code",
        "id": "3QCVSZGzhPXk",
        "colab": {}
      },
      "source": [
        "# this is my code...\n",
        "def my_func():\n",
        "        # __START_BLOCK_ANSWER__\n",
        "        a = 1\n",
        "        b = 2\n",
        "        # __END_BLOCK_ANSWER__\n",
        "        # __NEXT_LINE_ANSWER__\n",
        "        result = a + b\n",
        "        return result\n",
        "    "
      ],
      "execution_count": 0,
      "outputs": []
    },
    {
      "cell_type": "markdown",
      "metadata": {
        "colab_type": "text",
        "id": "BhGBAmabKr8A"
      },
      "source": [
        "**Questions**\n",
        "\n",
        "1. Which network works best according to validation? Why is that? \n",
        "2. Assume you want to increase the gap between the RNN and LSTM performances. How would you modify the data?\n",
        "\n",
        "\n",
        "__START_OUT_OF_CODE_ANSWER__\n",
        "**Possible answers**\n",
        "1. Being a simple toy problem, both the architectures converge to similar results. Still, LSTM should achieve slightly better performances. On the other hand, LSTM is slower to converge (given the architecture is more complex).\n",
        "2. The gap between LSTM and RNN should increase if we increase the length of the sequence. With long sequences, the ability of LSTM to better capture long-term dependencies should make a difference.\n",
        "__END_OUT_OF_CODE_ANSWER__\n",
        "\n"
      ]
    }
  ]
}